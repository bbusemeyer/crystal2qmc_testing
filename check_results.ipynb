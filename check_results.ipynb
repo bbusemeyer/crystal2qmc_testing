{
 "cells": [
  {
   "cell_type": "code",
   "execution_count": 1,
   "metadata": {
    "collapsed": true
   },
   "outputs": [],
   "source": [
    "import pandas as pd"
   ]
  },
  {
   "cell_type": "code",
   "execution_count": 126,
   "metadata": {
    "collapsed": false
   },
   "outputs": [
    {
     "data": {
      "text/plain": [
       "system  source\n",
       "si      ref       Int64Index([1296, 1297, 1298, 1299, 1300, 1301...\n",
       "        test      Int64Index([1296, 1297, 1298, 1299, 1300, 1301...\n",
       "dtype: object"
      ]
     },
     "execution_count": 126,
     "metadata": {},
     "output_type": "execute_result"
    }
   ],
   "source": [
    "alldf = pd.read_json('test_results.json')\n",
    "alldf['id'] = alldf['control'].apply(pd.Series).id\n",
    "alldf = alldf.set_index('id')\n",
    "dftdf = alldf['dft'].apply(pd.Series)\n",
    "vmcdf = alldf['qmc'].apply(pd.Series)['vmc'].apply(pd.Series)\n",
    "vmcdf = vmcdf[vmcdf['results'].notnull()]\n",
    "vmcdf = vmcdf['results'].apply(pd.Series).stack().apply(pd.Series).reset_index().set_index('id')\n",
    "del vmcdf['level_1']\n",
    "tmpdf = vmcdf['energy'].apply(lambda x: pd.Series({'energy':x[0],'energy_err':x[1]}))\n",
    "del vmcdf['energy']\n",
    "vmcdf = vmcdf.join(tmpdf).reset_index()\n",
    "vmcdf['system'] = vmcdf['id'].apply(lambda x:x.split('_')[1])\n",
    "vmcdf['source'] = vmcdf['id'].apply(lambda x:x.split('_')[2])\n",
    "vmcdf.groupby(['system','source']).apply(lambda x: x.xs()"
   ]
  }
 ],
 "metadata": {
  "kernelspec": {
   "display_name": "Python 2",
   "language": "python",
   "name": "python2"
  },
  "language_info": {
   "codemirror_mode": {
    "name": "ipython",
    "version": 2
   },
   "file_extension": ".py",
   "mimetype": "text/x-python",
   "name": "python",
   "nbconvert_exporter": "python",
   "pygments_lexer": "ipython2",
   "version": "2.7.9"
  }
 },
 "nbformat": 4,
 "nbformat_minor": 0
}
