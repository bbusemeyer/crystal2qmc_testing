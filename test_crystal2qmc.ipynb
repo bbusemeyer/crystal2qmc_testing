{
 "cells": [
  {
   "cell_type": "code",
   "execution_count": 5,
   "metadata": {
    "collapsed": false
   },
   "outputs": [],
   "source": [
    "import crystal2qmc as c2q\n",
    "import imp\n",
    "import numpy as np"
   ]
  },
  {
   "cell_type": "code",
   "execution_count": 70,
   "metadata": {
    "collapsed": false
   },
   "outputs": [],
   "source": [
    "imp.reload(c2q)\n",
    "info, lat_parm, ions, basis, pseudo = c2q.read_gred()\n",
    "eigsys = c2q.read_kred(info,basis)"
   ]
  },
  {
   "cell_type": "code",
   "execution_count": 69,
   "metadata": {
    "collapsed": false
   },
   "outputs": [
    {
     "data": {
      "text/plain": [
       "array([[ 0.21902089,  0.02586197,  0.01322059, ...,  0.00291871,\n",
       "         0.00218114,  0.00218114],\n",
       "       [ 0.04786035,  0.02014718,  0.12646177, ...,  0.00816472,\n",
       "         0.00456767,  0.00456767],\n",
       "       [ 0.        ,  0.        ,  0.19388294, ...,  0.        ,\n",
       "         0.00687439, -0.00687439],\n",
       "       ..., \n",
       "       [ 0.        ,  0.        ,  1.74592268, ...,  0.        ,\n",
       "         0.39227354,  0.39227354],\n",
       "       [-1.07353848,  0.39183872, -0.06436781, ..., -0.21186277,\n",
       "        -0.02115589, -0.02115589],\n",
       "       [-1.30033061,  0.80982868, -0.01658229, ..., -0.32767985,\n",
       "         0.01126573,  0.01126573]])"
      ]
     },
     "execution_count": 69,
     "metadata": {},
     "output_type": "execute_result"
    }
   ],
   "source": [
    "eigsys['eigvecs_real'][1]"
   ]
  }
 ],
 "metadata": {
  "kernelspec": {
   "display_name": "Python 2",
   "language": "python",
   "name": "python2"
  },
  "language_info": {
   "codemirror_mode": {
    "name": "ipython",
    "version": 2
   },
   "file_extension": ".py",
   "mimetype": "text/x-python",
   "name": "python",
   "nbconvert_exporter": "python",
   "pygments_lexer": "ipython2",
   "version": "2.7.9"
  }
 },
 "nbformat": 4,
 "nbformat_minor": 0
}
