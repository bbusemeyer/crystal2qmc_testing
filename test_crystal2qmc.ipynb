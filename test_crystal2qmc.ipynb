{
 "cells": [
  {
   "cell_type": "code",
   "execution_count": 5,
   "metadata": {
    "collapsed": false
   },
   "outputs": [],
   "source": [
    "import crystal2qmc as c2q\n",
    "import imp\n",
    "import numpy as np\n",
    "import pandas as pd\n",
    "import check_results\n",
    "import data_processing as dp"
   ]
  },
  {
   "cell_type": "code",
   "execution_count": 20,
   "metadata": {
    "collapsed": false
   },
   "outputs": [
    {
     "name": "stdout",
     "output_type": "stream",
     "text": [
      "('nevals_kpt,nao', 35, 35)\n"
     ]
    }
   ],
   "source": [
    "imp.reload(c2q)\n",
    "info, lat_parm, ions, basis, pseudo = c2q.read_gred()\n",
    "eigsys = c2q.read_kred(info,basis)"
   ]
  },
  {
   "cell_type": "code",
   "execution_count": 10,
   "metadata": {
    "collapsed": false
   },
   "outputs": [],
   "source": [
    "rawdf,alldf = dp.format_autogen(\"test_results.json\")\n",
    "alldf['results'] = alldf.loc[alldf['results'].notnull(),'results']\\\n",
    "    .apply(dp.format_results)"
   ]
  },
  {
   "cell_type": "code",
   "execution_count": 12,
   "metadata": {
    "collapsed": false
   },
   "outputs": [
    {
     "data": {
      "text/html": [
       "<div>\n",
       "<table border=\"1\" class=\"dataframe\">\n",
       "  <thead>\n",
       "    <tr style=\"text-align: right;\">\n",
       "      <th></th>\n",
       "      <th>excitations</th>\n",
       "      <th>jastrow</th>\n",
       "      <th>localization</th>\n",
       "      <th>nblock</th>\n",
       "      <th>optimizer</th>\n",
       "      <th>save_trace</th>\n",
       "      <th>target_error</th>\n",
       "      <th>timestep</th>\n",
       "      <th>broyden</th>\n",
       "      <th>edifftol</th>\n",
       "      <th>...</th>\n",
       "      <th>basis_factor</th>\n",
       "      <th>basis_lowest</th>\n",
       "      <th>basis_number</th>\n",
       "      <th>max_mag_moment</th>\n",
       "      <th>dft_energy</th>\n",
       "      <th>kpoints</th>\n",
       "      <th>nblock_vmc</th>\n",
       "      <th>optimizer_vmc</th>\n",
       "      <th>results</th>\n",
       "      <th>target_error_vmc</th>\n",
       "    </tr>\n",
       "  </thead>\n",
       "  <tbody>\n",
       "    <tr>\n",
       "      <th>0</th>\n",
       "      <td>no</td>\n",
       "      <td>twobody</td>\n",
       "      <td>(tmoves,)</td>\n",
       "      <td>16</td>\n",
       "      <td>variance</td>\n",
       "      <td>True</td>\n",
       "      <td>0.01</td>\n",
       "      <td>(0.02,)</td>\n",
       "      <td>(0.01, 60, 8)</td>\n",
       "      <td>6</td>\n",
       "      <td>...</td>\n",
       "      <td>2</td>\n",
       "      <td>0.2</td>\n",
       "      <td>2</td>\n",
       "      <td>NaN</td>\n",
       "      <td>-3.911615</td>\n",
       "      <td>real</td>\n",
       "      <td>20</td>\n",
       "      <td>NaN</td>\n",
       "      <td>{0: (-7.110650811, 0.007444655339), 1: (-7.546...</td>\n",
       "      <td>0.01</td>\n",
       "    </tr>\n",
       "    <tr>\n",
       "      <th>1</th>\n",
       "      <td>no</td>\n",
       "      <td>twobody</td>\n",
       "      <td>(tmoves,)</td>\n",
       "      <td>16</td>\n",
       "      <td>variance</td>\n",
       "      <td>True</td>\n",
       "      <td>0.01</td>\n",
       "      <td>(0.02,)</td>\n",
       "      <td>(0.01, 60, 8)</td>\n",
       "      <td>6</td>\n",
       "      <td>...</td>\n",
       "      <td>2</td>\n",
       "      <td>0.2</td>\n",
       "      <td>2</td>\n",
       "      <td>NaN</td>\n",
       "      <td>-3.911615</td>\n",
       "      <td>real</td>\n",
       "      <td>20</td>\n",
       "      <td>NaN</td>\n",
       "      <td>{0: (-7.110184977, 0.005756136458), 1: (-7.540...</td>\n",
       "      <td>0.01</td>\n",
       "    </tr>\n",
       "    <tr>\n",
       "      <th>2</th>\n",
       "      <td>no</td>\n",
       "      <td>twobody</td>\n",
       "      <td>(tmoves,)</td>\n",
       "      <td>16</td>\n",
       "      <td>variance</td>\n",
       "      <td>True</td>\n",
       "      <td>0.01</td>\n",
       "      <td>(0.02,)</td>\n",
       "      <td>(0.01, 60, 8)</td>\n",
       "      <td>6</td>\n",
       "      <td>...</td>\n",
       "      <td>2</td>\n",
       "      <td>0.2</td>\n",
       "      <td>2</td>\n",
       "      <td>NaN</td>\n",
       "      <td>-4.202957</td>\n",
       "      <td>real</td>\n",
       "      <td>20</td>\n",
       "      <td>NaN</td>\n",
       "      <td>{0: (-7.636724971, 0.005887636499), 1: (-8.212...</td>\n",
       "      <td>0.01</td>\n",
       "    </tr>\n",
       "    <tr>\n",
       "      <th>3</th>\n",
       "      <td>no</td>\n",
       "      <td>twobody</td>\n",
       "      <td>(tmoves,)</td>\n",
       "      <td>16</td>\n",
       "      <td>variance</td>\n",
       "      <td>True</td>\n",
       "      <td>0.01</td>\n",
       "      <td>(0.02,)</td>\n",
       "      <td>(0.01, 60, 8)</td>\n",
       "      <td>6</td>\n",
       "      <td>...</td>\n",
       "      <td>2</td>\n",
       "      <td>0.2</td>\n",
       "      <td>2</td>\n",
       "      <td>NaN</td>\n",
       "      <td>-4.202957</td>\n",
       "      <td>real</td>\n",
       "      <td>20</td>\n",
       "      <td>NaN</td>\n",
       "      <td>{0: (-7.617490199, 0.009414067307), 1: (-8.217...</td>\n",
       "      <td>0.01</td>\n",
       "    </tr>\n",
       "    <tr>\n",
       "      <th>4</th>\n",
       "      <td>no</td>\n",
       "      <td>twobody</td>\n",
       "      <td>(tmoves,)</td>\n",
       "      <td>16</td>\n",
       "      <td>variance</td>\n",
       "      <td>True</td>\n",
       "      <td>0.01</td>\n",
       "      <td>(0.02,)</td>\n",
       "      <td>(0.01, 60, 8)</td>\n",
       "      <td>6</td>\n",
       "      <td>...</td>\n",
       "      <td>2</td>\n",
       "      <td>0.2</td>\n",
       "      <td>2</td>\n",
       "      <td>2</td>\n",
       "      <td>-62.009233</td>\n",
       "      <td>real</td>\n",
       "      <td>20</td>\n",
       "      <td>NaN</td>\n",
       "      <td>{0: (-123.9578146, 0.008932057486), 1: (-123.7...</td>\n",
       "      <td>0.01</td>\n",
       "    </tr>\n",
       "    <tr>\n",
       "      <th>5</th>\n",
       "      <td>no</td>\n",
       "      <td>twobody</td>\n",
       "      <td>(tmoves,)</td>\n",
       "      <td>16</td>\n",
       "      <td>variance</td>\n",
       "      <td>True</td>\n",
       "      <td>0.01</td>\n",
       "      <td>(0.02,)</td>\n",
       "      <td>(0.01, 60, 8)</td>\n",
       "      <td>6</td>\n",
       "      <td>...</td>\n",
       "      <td>2</td>\n",
       "      <td>0.2</td>\n",
       "      <td>2</td>\n",
       "      <td>2</td>\n",
       "      <td>-62.009228</td>\n",
       "      <td>real</td>\n",
       "      <td>20</td>\n",
       "      <td>NaN</td>\n",
       "      <td>NaN</td>\n",
       "      <td>0.01</td>\n",
       "    </tr>\n",
       "  </tbody>\n",
       "</table>\n",
       "<p>6 rows × 39 columns</p>\n",
       "</div>"
      ],
      "text/plain": [
       "  excitations  jastrow localization  nblock optimizer save_trace  \\\n",
       "0          no  twobody    (tmoves,)      16  variance       True   \n",
       "1          no  twobody    (tmoves,)      16  variance       True   \n",
       "2          no  twobody    (tmoves,)      16  variance       True   \n",
       "3          no  twobody    (tmoves,)      16  variance       True   \n",
       "4          no  twobody    (tmoves,)      16  variance       True   \n",
       "5          no  twobody    (tmoves,)      16  variance       True   \n",
       "\n",
       "   target_error timestep        broyden  edifftol       ...         \\\n",
       "0          0.01  (0.02,)  (0.01, 60, 8)         6       ...          \n",
       "1          0.01  (0.02,)  (0.01, 60, 8)         6       ...          \n",
       "2          0.01  (0.02,)  (0.01, 60, 8)         6       ...          \n",
       "3          0.01  (0.02,)  (0.01, 60, 8)         6       ...          \n",
       "4          0.01  (0.02,)  (0.01, 60, 8)         6       ...          \n",
       "5          0.01  (0.02,)  (0.01, 60, 8)         6       ...          \n",
       "\n",
       "   basis_factor  basis_lowest basis_number max_mag_moment dft_energy  kpoints  \\\n",
       "0             2           0.2            2            NaN  -3.911615     real   \n",
       "1             2           0.2            2            NaN  -3.911615     real   \n",
       "2             2           0.2            2            NaN  -4.202957     real   \n",
       "3             2           0.2            2            NaN  -4.202957     real   \n",
       "4             2           0.2            2              2 -62.009233     real   \n",
       "5             2           0.2            2              2 -62.009228     real   \n",
       "\n",
       "  nblock_vmc optimizer_vmc                                            results  \\\n",
       "0         20           NaN  {0: (-7.110650811, 0.007444655339), 1: (-7.546...   \n",
       "1         20           NaN  {0: (-7.110184977, 0.005756136458), 1: (-7.540...   \n",
       "2         20           NaN  {0: (-7.636724971, 0.005887636499), 1: (-8.212...   \n",
       "3         20           NaN  {0: (-7.617490199, 0.009414067307), 1: (-8.217...   \n",
       "4         20           NaN  {0: (-123.9578146, 0.008932057486), 1: (-123.7...   \n",
       "5         20           NaN                                                NaN   \n",
       "\n",
       "  target_error_vmc  \n",
       "0             0.01  \n",
       "1             0.01  \n",
       "2             0.01  \n",
       "3             0.01  \n",
       "4             0.01  \n",
       "5             0.01  \n",
       "\n",
       "[6 rows x 39 columns]"
      ]
     },
     "execution_count": 12,
     "metadata": {},
     "output_type": "execute_result"
    }
   ],
   "source": [
    "alldf"
   ]
  },
  {
   "cell_type": "code",
   "execution_count": 22,
   "metadata": {
    "collapsed": false
   },
   "outputs": [
    {
     "data": {
      "text/plain": [
       "35"
      ]
     },
     "execution_count": 22,
     "metadata": {},
     "output_type": "execute_result"
    }
   ],
   "source": [
    "basis['nao_shell'].sum()"
   ]
  }
 ],
 "metadata": {
  "kernelspec": {
   "display_name": "Python 2",
   "language": "python",
   "name": "python2"
  },
  "language_info": {
   "codemirror_mode": {
    "name": "ipython",
    "version": 2
   },
   "file_extension": ".py",
   "mimetype": "text/x-python",
   "name": "python",
   "nbconvert_exporter": "python",
   "pygments_lexer": "ipython2",
   "version": "2.7.9"
  }
 },
 "nbformat": 4,
 "nbformat_minor": 0
}
