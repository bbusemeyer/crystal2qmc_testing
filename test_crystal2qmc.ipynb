{
 "cells": [
  {
   "cell_type": "code",
   "execution_count": 12,
   "metadata": {
    "collapsed": false
   },
   "outputs": [],
   "source": [
    "import crystal2qmc as c2q\n",
    "import imp\n",
    "import numpy as np"
   ]
  },
  {
   "cell_type": "code",
   "execution_count": 8,
   "metadata": {
    "collapsed": false
   },
   "outputs": [],
   "source": [
    "imp.reload(c2q)\n",
    "info, lat_parm, ions, basis, pseudo = c2q.read_gred()\n",
    "eigsys = c2q.read_kred(info,basis)"
   ]
  },
  {
   "cell_type": "code",
   "execution_count": 9,
   "metadata": {
    "collapsed": false
   },
   "outputs": [
    {
     "data": {
      "text/plain": [
       "2.962542852850047"
      ]
     },
     "execution_count": 9,
     "metadata": {},
     "output_type": "execute_result"
    }
   ],
   "source": [
    "imp.reload(c2q)\n",
    "c2q.find_basis_cutoff(lat_parm)"
   ]
  },
  {
   "cell_type": "code",
   "execution_count": 10,
   "metadata": {
    "collapsed": false
   },
   "outputs": [
    {
     "data": {
      "text/plain": [
       "array([  0.282668,   0.614115,   1.334205,   2.898645,   6.297493,\n",
       "        13.681707,  29.724387,   0.507467,   0.330843,   0.689658,\n",
       "         1.437625,   2.996797,   6.246966,  13.022097,   0.146758,\n",
       "         0.170395,   0.539756,   0.352999,   0.282668,   0.614115,\n",
       "         1.334205,   2.898645,   6.297493,  13.681707,  29.724387,\n",
       "         0.507467,   0.330843,   0.689658,   1.437625,   2.996797,\n",
       "         6.246966,  13.022097,   0.146758,   0.170395,   0.539756,\n",
       "         0.352999])"
      ]
     },
     "execution_count": 10,
     "metadata": {},
     "output_type": "execute_result"
    }
   ],
   "source": [
    "basis['prim_gaus']"
   ]
  },
  {
   "cell_type": "code",
   "execution_count": 18,
   "metadata": {
    "collapsed": false
   },
   "outputs": [
    {
     "data": {
      "text/plain": [
       "19.747525828800001"
      ]
     },
     "execution_count": 18,
     "metadata": {},
     "output_type": "execute_result"
    }
   ],
   "source": [
    "si1 = np.array((0,0,0))\n",
    "si2 = np.array((2.56564,2.56564,2.56564))\n",
    "((si1-si2)**2).sum()"
   ]
  },
  {
   "cell_type": "code",
   "execution_count": 19,
   "metadata": {
    "collapsed": false
   },
   "outputs": [
    {
     "data": {
      "text/plain": [
       "19.747525828800001"
      ]
     },
     "execution_count": 19,
     "metadata": {},
     "output_type": "execute_result"
    }
   ],
   "source": [
    "si1 = np.array((1.28282,1.28282,1.28282))\n",
    "si2 = np.array((3.84846,3.84846,3.84846))\n",
    "((si1-si2)**2).sum()"
   ]
  }
 ],
 "metadata": {
  "kernelspec": {
   "display_name": "Python 2",
   "language": "python",
   "name": "python2"
  },
  "language_info": {
   "codemirror_mode": {
    "name": "ipython",
    "version": 2
   },
   "file_extension": ".py",
   "mimetype": "text/x-python",
   "name": "python",
   "nbconvert_exporter": "python",
   "pygments_lexer": "ipython2",
   "version": "2.7.9"
  }
 },
 "nbformat": 4,
 "nbformat_minor": 0
}
